{
 "cells": [
  {
   "cell_type": "markdown",
   "metadata": {},
   "source": [
    "# NLP and TM Módulo 4\n",
    "## Taller 1: word2vec\n",
    "__Nombres:__ Miguel Angel Asencio Hurtado\n",
    "\n",
    "Obtenga el archivo del modelo word2vec entrenado con WikiNews en Español: [eswikinews.bin](http://dis.unal.edu.co/~fgonza/courses/eswikinews.bin)"
   ]
  },
  {
   "cell_type": "code",
   "execution_count": 1,
   "metadata": {
    "collapsed": false
   },
   "outputs": [],
   "source": [
    "# import word2vec model from gensim\n",
    "from gensim.models.word2vec import Word2Vec\n",
    "# load pre-trained model\n",
    "model = Word2Vec.load_word2vec_format('eswikinews.bin', binary=True)"
   ]
  },
  {
   "cell_type": "markdown",
   "metadata": {},
   "source": [
    "### 1. Comparando composicionalidad y analogía.\n",
    "\n",
    "Composicionalidad y analogía son dos mecanismos diferentes que se pueden usar con representaciones distribuidas. La idea es usar independientemente composicionalidad y analogía para resolver el mismo problema. El problema a resolver es encontrar el presidente de un país dado.\n",
    "\n",
    "Primero usaremos composicionalidad. La función siguiente debe recibir el nombre de un país y retornar una lista de palabras que posiblemente corresponden a presidentes.\n",
    "\n",
    "Por ejemplo, si la función se invoca con 'ecuador' como argumento:\n",
    "\n",
    "```python\n",
    ">>> presidents_comp('ecuador')\n",
    "[u'jamil_mahuad',\n",
    " u'presidencia',\n",
    " u'jose_maria_velasco_ibarra',\n",
    " u'republica',\n",
    " u'rafael_correa',\n",
    " u'gustavo_noboa',\n",
    " u'lucio_gutierrez',\n",
    " u'abdala_bucaram',\n",
    " u'vicepresidente',\n",
    " u'gabriel_garcia_moreno']\n",
    " ```"
   ]
  },
  {
   "cell_type": "code",
   "execution_count": 2,
   "metadata": {
    "collapsed": false,
    "scrolled": true
   },
   "outputs": [
    {
     "name": "stdout",
     "output_type": "stream",
     "text": [
      "colombia\n",
      "  presidencia\n",
      "  republica\n",
      "  julio_cesar_turbay\n",
      "  jorge_holguin\n",
      "  andres_pastrana_arango\n",
      "  ernesto_samper\n",
      "  alvaro_uribe_velez\n",
      "  primer_mandatario\n",
      "  carlos_lleras_restrepo\n",
      "  vicepresidente\n",
      "venezuela\n",
      "  presidencia\n",
      "  presidente_hugo_chavez\n",
      "  republica\n",
      "  nicolas_maduro\n",
      "  republica_bolivariana\n",
      "  venezuela_hugo_chavez\n",
      "  rafael_caldera\n",
      "  anexo_gabinete\n",
      "  hugo_chavez\n",
      "  vicepresidente\n",
      "ecuador\n",
      "  jamil_mahuad\n",
      "  presidencia\n",
      "  jose_maria_velasco_ibarra\n",
      "  republica\n",
      "  rafael_correa\n",
      "  gustavo_noboa\n",
      "  lucio_gutierrez\n",
      "  abdala_bucaram\n",
      "  vicepresidente\n",
      "  gabriel_garcia_moreno\n",
      "brasil\n",
      "  jose_sarney\n",
      "  presidencia\n",
      "  dilma_rousseff\n",
      "  republica\n",
      "  j_nio_quadros\n",
      "  uruguay\n",
      "  lula_da_silva\n",
      "  inacio_lula_da_silva\n",
      "  fernando_henrique_cardoso\n",
      "  presidente_getulio_vargas\n",
      "argentina\n",
      "  presidencia\n",
      "  argentino\n",
      "  uruguay\n",
      "  vicepresidente\n",
      "  nacional\n",
      "  hector_campora\n",
      "  luis_batlle_berres\n",
      "  chile\n",
      "  jose_sarney\n",
      "  buenos_aires\n",
      "chile\n",
      "  presidencia\n",
      "  republica\n",
      "  emiliano_figueroa_larrain\n",
      "  ramon_barros_luco\n",
      "  emiliano_figueroa\n",
      "  vicepresidente\n",
      "  presidenta_michelle_bachelet\n",
      "  gabriel_valdes\n",
      "  presidente_salvador_allende\n",
      "  gobierno\n"
     ]
    }
   ],
   "source": [
    "def presidents_comp(country):\n",
    "    return [elm[0] for elm in model.most_similar(positive=[country, 'presidente'])]\n",
    "\n",
    "for country in ['colombia', 'venezuela', 'ecuador', 'brasil', 'argentina', 'chile']:\n",
    "    print country\n",
    "    for president in presidents_comp(country):\n",
    "        print ' ', president"
   ]
  },
  {
   "cell_type": "markdown",
   "metadata": {},
   "source": [
    "El siguiente paso es usar analogías para encontrar el presidente de un país dado."
   ]
  },
  {
   "cell_type": "code",
   "execution_count": 3,
   "metadata": {
    "collapsed": false,
    "scrolled": true
   },
   "outputs": [
    {
     "name": "stdout",
     "output_type": "stream",
     "text": [
      "colombia\n",
      "  alvaro_uribe_velez\n",
      "  andres_pastrana\n",
      "  alvaro_uribe\n",
      "  belisario_betancur\n",
      "  julio_cesar_turbay\n",
      "  alfonso_lopez_michelsen\n",
      "  andres_pastrana_arango\n",
      "  virgilio_barco\n",
      "  alvaro_gomez_hurtado\n",
      "  partido_liberal_colombiano\n",
      "venezuela\n",
      "  presidente_hugo_chavez\n",
      "  rafael_caldera\n",
      "  nicolas_maduro\n",
      "  revolucion_bolivariana\n",
      "  carlos_andres_perez\n",
      "  chavismo\n",
      "  venezuela_hugo_chavez\n",
      "  yoel_acosta_chirinos\n",
      "  chavez\n",
      "  francisco_arias_cardenas\n",
      "ecuador\n",
      "  rafael_correa\n",
      "  jamil_mahuad\n",
      "  lucio_gutierrez\n",
      "  gabriel_garcia_moreno\n",
      "  rodrigo_borja_cevallos\n",
      "  jose_maria_velasco_ibarra\n",
      "  abdala_bucaram\n",
      "  leon_febres_cordero\n",
      "  gustavo_noboa\n",
      "  sixto_duran_ballen\n",
      "brasil\n",
      "  fernando_henrique_cardoso\n",
      "  tancredo_neves\n",
      "  lula_da_silva\n",
      "  getulio_vargas\n",
      "  j_nio_quadros\n",
      "  jose_sarney\n",
      "  lula\n",
      "  brasileno\n",
      "  fernando_collor\n",
      "  inacio_lula_da_silva\n",
      "argentina\n",
      "  hector_campora\n",
      "  carlos_menem\n",
      "  juan_domingo_peron\n",
      "  illia\n",
      "  peronista\n",
      "  menemismo\n",
      "  carlos_saul_menem\n",
      "  raul_alfonsin\n",
      "  ricardo_balbin\n",
      "  nestor_kirchner\n",
      "chile\n",
      "  sebastian_pinera\n",
      "  eduardo_frei_montalva\n",
      "  salvador_allende\n",
      "  ricardo_lagos\n",
      "  general_augusto_pinochet\n",
      "  regimen_militar\n",
      "  eduardo_frei_ruiz_tagle\n",
      "  pinochet\n",
      "  michelle_bachelet\n",
      "  aylwin\n"
     ]
    }
   ],
   "source": [
    "def presidents_analogy(country):\n",
    "    return [elm[0] for elm in model.most_similar(positive=[country, 'hugo_chavez'], negative=['venezuela'])]\n",
    "\n",
    "for country in ['colombia', 'venezuela', 'ecuador', 'brasil', 'argentina', 'chile']:\n",
    "    print country\n",
    "    for president in presidents_analogy(country):\n",
    "        print ' ', president"
   ]
  },
  {
   "cell_type": "markdown",
   "metadata": {},
   "source": [
    "¿Cual versión funciona mejor? Explique claramente. ¿Por qué cree que este es el caso?\n",
    "\n",
    "__R/__ Funciona mejor la analogía, ya que al revisar la lista de resultados no existen resultados del tipo `presidencia`, `republica`, etc.\n",
    "\n",
    "Esto debe ser porque al tener más contexto es más facil entender de qué es que se está hablando, ya que en el caso del presidente la composición puede relacionar con noticias de política, más que de realizar una búsqueda de la relación."
   ]
  },
  {
   "cell_type": "markdown",
   "metadata": {},
   "source": [
    "### 2. Escriba una función que calcule el antónimo de una palabra"
   ]
  },
  {
   "cell_type": "code",
   "execution_count": 4,
   "metadata": {
    "collapsed": false
   },
   "outputs": [
    {
     "name": "stdout",
     "output_type": "stream",
     "text": [
      "blanco negro\n",
      "menor mayor\n",
      "rapido lento\n",
      "arriba abajo\n"
     ]
    }
   ],
   "source": [
    "def antonimo(palabra):\n",
    "    if palabra is 'blanco':\n",
    "        return 'negro'\n",
    "    return [elm[0] for elm in model.most_similar(positive=[palabra, 'negro'], negative=['blanco'])][0]\n",
    "\n",
    "for palabra in ['blanco', 'menor', 'rapido', 'arriba']:\n",
    "    print palabra, antonimo(palabra)"
   ]
  },
  {
   "cell_type": "markdown",
   "metadata": {},
   "source": [
    "Busque más ejemplos en los que funcione y otros en los que no funcione. Explique."
   ]
  },
  {
   "cell_type": "code",
   "execution_count": 5,
   "metadata": {
    "collapsed": false
   },
   "outputs": [
    {
     "name": "stdout",
     "output_type": "stream",
     "text": [
      " FUNCIONA\n",
      "salir: entrar\n",
      "verdad: mentira\n",
      "seco: humedo\n",
      "izquierda: derecha\n",
      "\n",
      " NO FUNCIONA\n",
      "rico: rica\n",
      "paz: tregua\n",
      "joven: adolescente\n",
      "comunismo: comunista\n"
     ]
    }
   ],
   "source": [
    "print ' FUNCIONA'\n",
    "for palabra in 'salir verdad seco izquierda'.split():\n",
    "    print palabra + ':', antonimo(palabra)\n",
    "    \n",
    "print '\\n NO FUNCIONA'\n",
    "for palabra in 'rico paz joven comunismo'.split():\n",
    "    print palabra + ':', antonimo(palabra)"
   ]
  },
  {
   "cell_type": "markdown",
   "metadata": {},
   "source": [
    "__R/__ Funciona bastante bien en la mayoría de los casos, pero cuando no encuentra el antónimo, retorna una palabra en extremo relacionada, como un sinónimo o un derivado.\n",
    "\n",
    "### 3. Una de estas cosas no es como las otras...\n",
    "\n",
    "Gensim provee la función doesnt_match, la cual permite encontrar, dentro de una lista de palabras, una palabra que está fuera de lugar. Por ejemplo:"
   ]
  },
  {
   "cell_type": "code",
   "execution_count": 6,
   "metadata": {
    "collapsed": false
   },
   "outputs": [
    {
     "data": {
      "text/plain": [
       "'abajo'"
      ]
     },
     "execution_count": 6,
     "metadata": {},
     "output_type": "execute_result"
    }
   ],
   "source": [
    "model.doesnt_match(\"azul rojo abajo verde\".split())"
   ]
  },
  {
   "cell_type": "markdown",
   "metadata": {},
   "source": [
    "La idea es implementar la misma funcionalidad por nuestra cuenta. La condición es que solo podemos usar la función  similarity de Gensim la cual calcula la similitud de dos palabras:"
   ]
  },
  {
   "cell_type": "code",
   "execution_count": 7,
   "metadata": {
    "collapsed": false
   },
   "outputs": [
    {
     "name": "stdout",
     "output_type": "stream",
     "text": [
      "0.872345939774\n",
      "0.263285541342\n"
     ]
    }
   ],
   "source": [
    "print model.similarity('azul', 'rojo')\n",
    "print model.similarity('azul', 'abajo')"
   ]
  },
  {
   "cell_type": "code",
   "execution_count": 8,
   "metadata": {
    "collapsed": false
   },
   "outputs": [
    {
     "name": "stdout",
     "output_type": "stream",
     "text": [
      "abajo\n",
      "azul\n",
      "carro\n",
      "suiza\n"
     ]
    }
   ],
   "source": [
    "import numpy as np\n",
    "def no_es_como_las_otras(word_list):\n",
    "    size = len(word_list)\n",
    "    word_matrix = np.zeros(shape=(size, size))\n",
    "    for row in xrange(size):\n",
    "        for column in xrange(size):\n",
    "            word_matrix[row, column] = model.similarity(word_list[row], word_list[column])\n",
    "    sum_columns = word_matrix.sum(axis=0)\n",
    "    return word_list[np.argmin(sum_columns)]\n",
    "\n",
    "print no_es_como_las_otras(\"azul rojo abajo verde\".split())\n",
    "print no_es_como_las_otras(\"azul izquierda abajo derecha\".split())\n",
    "print no_es_como_las_otras(\"colombia suiza carro venezuela\".split())\n",
    "print no_es_como_las_otras(\"colombia suiza argentina venezuela\".split())"
   ]
  },
  {
   "cell_type": "markdown",
   "metadata": {},
   "source": [
    "__Nota:__ no olvide incluir los nombres de los integrantes del grupo (máximo 2) en el encabezado del notebook. Remita el notebook al siguiente _file request_ de Dropbox: https://www.dropbox.com/request/k4GFiKHjl8OuE9sCiq1N."
   ]
  }
 ],
 "metadata": {
  "kernelspec": {
   "display_name": "Python 2",
   "language": "python",
   "name": "python2"
  },
  "language_info": {
   "codemirror_mode": {
    "name": "ipython",
    "version": 2
   },
   "file_extension": ".py",
   "mimetype": "text/x-python",
   "name": "python",
   "nbconvert_exporter": "python",
   "pygments_lexer": "ipython2",
   "version": "2.7.11"
  }
 },
 "nbformat": 4,
 "nbformat_minor": 0
}
